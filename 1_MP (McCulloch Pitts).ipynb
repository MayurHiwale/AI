{
 "cells": [
  {
   "cell_type": "markdown",
   "id": "a1472716",
   "metadata": {},
   "source": [
    "## prerequivisit"
   ]
  },
  {
   "cell_type": "markdown",
   "id": "904b9f3c",
   "metadata": {},
   "source": [
    "- create class- student\n",
    "- inint constructor which accept- name& id"
   ]
  },
  {
   "cell_type": "code",
   "execution_count": 1,
   "id": "42657097",
   "metadata": {},
   "outputs": [
    {
     "name": "stdout",
     "output_type": "stream",
     "text": [
      "name mayur\n",
      "id 123\n"
     ]
    }
   ],
   "source": [
    "class student:\n",
    "    def __init__(self, name, id):    #self is refrence to current object\n",
    "        self.name=name\n",
    "        self.id=id\n",
    "\n",
    "std = student(\"mayur\", 123)\n",
    "print(\"name\", std.name)\n",
    "print(\"id\", std.id)"
   ]
  },
  {
   "cell_type": "code",
   "execution_count": 2,
   "id": "5f55d1a8",
   "metadata": {},
   "outputs": [
    {
     "name": "stdout",
     "output_type": "stream",
     "text": [
      "{'name': 'mayur', 'id': 123}\n"
     ]
    }
   ],
   "source": [
    "print(vars(std))"
   ]
  },
  {
   "cell_type": "markdown",
   "id": "e72336eb",
   "metadata": {},
   "source": [
    "- zip function: zip all the tems from multiple lists in dict. form\n",
    "- enumerate function: rerurn the number of iteration\n",
    "- map, reduce, filter: \n",
    "\n",
    "- what is concept of adding (0, i+1)"
   ]
  },
  {
   "cell_type": "code",
   "execution_count": 7,
   "id": "f5149a20",
   "metadata": {},
   "outputs": [
    {
     "name": "stdout",
     "output_type": "stream",
     "text": [
      "0\n",
      "12\n"
     ]
    }
   ],
   "source": [
    "#Zip\n",
    "name = [ \"Manjeet\", \"Nikhil\", \"Shambhavi\", \"Astha\" ]\n",
    "roll_no = [ 0, 1]\n",
    "id=[11, 12]\n",
    "#mapped = zip(name, roll_no)\n",
    "\n",
    "#list(zip(name, roll_no))\n",
    "#print(tuple(mapped))    #...answer in tuple format (in same order as present)\n",
    "#print(set(mapped))     #...set return in dict. {} format in alphabetical format \n",
    "\n",
    "for s1, s2 in zip(roll_no, id):\n",
    "    print(s1*s2)"
   ]
  },
  {
   "cell_type": "code",
   "execution_count": 3,
   "id": "9ac1794c",
   "metadata": {},
   "outputs": [
    {
     "name": "stdout",
     "output_type": "stream",
     "text": [
      "Return type: <class 'enumerate'>\n",
      "[(0, 'eat'), (1, 'sleep'), (2, 'repeat')]\n",
      "[(3, 'g'), (4, 'e'), (5, 'e'), (6, 'k')]\n",
      "(0, 'eat')\n",
      "(1, 'sleep')\n",
      "(2, 'repeat')\n"
     ]
    }
   ],
   "source": [
    "#enumerate: Often, when dealing with iterators, we also need to keep a count of iterations. \n",
    "#Python eases the programmers’ task by providing a built-in function enumerate() for this task. \n",
    "\n",
    "\n",
    "l1 = [\"eat\", \"sleep\", \"repeat\"]\n",
    "s1 = \"geek\"\n",
    " \n",
    "# creating enumerate objects\n",
    "obj1 = enumerate(l1)\n",
    "obj2 = enumerate(s1)\n",
    " \n",
    "print (\"Return type:\", type(obj1))\n",
    "print (list(enumerate(l1)))\n",
    "print (list(enumerate(s1, 3)))             # (s1, 2) changing start index to 2 from 0 because upper list end with 2\n",
    "\n",
    "for i in obj1:\n",
    "    print(i)\n"
   ]
  },
  {
   "cell_type": "code",
   "execution_count": 18,
   "id": "979e6c82",
   "metadata": {},
   "outputs": [
    {
     "name": "stdout",
     "output_type": "stream",
     "text": [
      "map:  [10, 14, 44, 194, 108, 124, 154, 46, 146, 122]\n",
      "reduce:  15\n",
      "filter:  [5, 7, 97, 77, 23, 73, 61]\n"
     ]
    }
   ],
   "source": [
    "#lambda\n",
    "#map: \n",
    "li = [5, 7, 22, 97, 54, 62, 77, 23, 73, 61]\n",
    "map_final_list = list(map(lambda x: x*2, li))         #used with list(map())\n",
    "print(\"map: \",map_final_list)\n",
    "\n",
    "\n",
    "#reduce: used for reduction\n",
    "from functools import reduce\n",
    "\n",
    "# Define a function\n",
    "def add(x, y):\n",
    "    return x + y\n",
    "\n",
    "# Add all elements in a list\n",
    "numbers = [1, 2, 3, 4, 5]\n",
    "sum_of_numbers = reduce(add, numbers)\n",
    "print(\"reduce: \",sum_of_numbers)  # Output: 15 (1 + 2 + 3 + 4 + 5)\n",
    "\n",
    "\n",
    "#filter: it filter out all the true item applied by condition \n",
    "li = [5, 7, 22, 97, 54, 62, 77, 23, 73, 61]\n",
    "filter_final_list = list(filter(lambda x: (x % 2 != 0), li))         #used with list(filter())\n",
    "print(\"filter: \",filter_final_list)\n",
    "#here (x % 2 != 0) this will return true false and filter will only print true values i.e only even items"
   ]
  },
  {
   "cell_type": "markdown",
   "id": "32e78ac4",
   "metadata": {},
   "source": [
    "___"
   ]
  },
  {
   "cell_type": "markdown",
   "id": "05e89490",
   "metadata": {},
   "source": [
    "### MP model"
   ]
  },
  {
   "cell_type": "code",
   "execution_count": 8,
   "id": "f8a03034",
   "metadata": {},
   "outputs": [],
   "source": [
    "class MPModel: \n",
    "    def __init__(self, weights, threshold): \n",
    "        self.weights = weights\n",
    "        self.threshold = threshold\n",
    "    \n",
    "    def activate(self, inputs): \n",
    "        weighted_sum = sum(w*x for w, x in zip(self.weights, inputs))\n",
    "        output=1 if weighted_sum >= self.threshold else 0\n",
    "        return output"
   ]
  },
  {
   "cell_type": "markdown",
   "id": "2427b141",
   "metadata": {},
   "source": [
    "__or gate__"
   ]
  },
  {
   "cell_type": "code",
   "execution_count": 9,
   "id": "8a84a9c5",
   "metadata": {},
   "outputs": [],
   "source": [
    "#or gate\n",
    "weights = [1, 1]\n",
    "threshold = 1"
   ]
  },
  {
   "cell_type": "code",
   "execution_count": 15,
   "id": "9d1a1e08",
   "metadata": {},
   "outputs": [],
   "source": [
    "sample_ip=[0,0]"
   ]
  },
  {
   "cell_type": "code",
   "execution_count": 11,
   "id": "bae89748",
   "metadata": {},
   "outputs": [],
   "source": [
    "MP1 = MPModel(weights, threshold)"
   ]
  },
  {
   "cell_type": "code",
   "execution_count": 13,
   "id": "fa86857a",
   "metadata": {},
   "outputs": [
    {
     "data": {
      "text/plain": [
       "{'weights': [1, 1], 'threshold': 1}"
      ]
     },
     "execution_count": 13,
     "metadata": {},
     "output_type": "execute_result"
    }
   ],
   "source": [
    "vars(MP1)"
   ]
  },
  {
   "cell_type": "code",
   "execution_count": 14,
   "id": "9453f7fb",
   "metadata": {},
   "outputs": [
    {
     "data": {
      "text/plain": [
       "0"
      ]
     },
     "execution_count": 14,
     "metadata": {},
     "output_type": "execute_result"
    }
   ],
   "source": [
    "MP1.activate(sample_ip)   #sample_ip=[0,0]"
   ]
  },
  {
   "cell_type": "code",
   "execution_count": 17,
   "id": "8d31167d",
   "metadata": {},
   "outputs": [
    {
     "name": "stdout",
     "output_type": "stream",
     "text": [
      "0\n",
      "1\n",
      "1\n",
      "1\n"
     ]
    }
   ],
   "source": [
    "#or gate\n",
    "print(MP1.activate([0,0]))\n",
    "print(MP1.activate([0,1]))\n",
    "print(MP1.activate([1,0]))\n",
    "print(MP1.activate([1,1]))"
   ]
  },
  {
   "cell_type": "code",
   "execution_count": 18,
   "id": "3b1fedc8",
   "metadata": {},
   "outputs": [
    {
     "name": "stdout",
     "output_type": "stream",
     "text": [
      "[0, 0]\n",
      "[0, 1]\n",
      "[1, 0]\n",
      "[1, 1]\n"
     ]
    }
   ],
   "source": [
    "# so instead mention it seperate \n",
    "logic_inputs = [[0,0],[0,1],[1,0],[1,1]]\n",
    "for ips in logic_inputs:\n",
    "    print(ips)"
   ]
  },
  {
   "cell_type": "code",
   "execution_count": 21,
   "id": "2229b67f",
   "metadata": {},
   "outputs": [
    {
     "name": "stdout",
     "output_type": "stream",
     "text": [
      "Input: [0, 0], output: 0\n",
      "Input: [0, 1], output: 1\n",
      "Input: [1, 0], output: 1\n",
      "Input: [1, 1], output: 1\n"
     ]
    }
   ],
   "source": [
    "for ips in logic_inputs:\n",
    "    op = MP1.activate(ips)\n",
    "    print(f\"Input: {ips}, output: {op}\")"
   ]
  },
  {
   "cell_type": "markdown",
   "id": "76d90dfc",
   "metadata": {},
   "source": [
    "__AND gate__"
   ]
  },
  {
   "cell_type": "code",
   "execution_count": 22,
   "id": "f86cbf23",
   "metadata": {},
   "outputs": [],
   "source": [
    "weights = [1, 1]\n",
    "threshold = 2\n",
    "logic_inputs = [[0,0],[0,1],[1,0],[1,1]]"
   ]
  },
  {
   "cell_type": "code",
   "execution_count": 23,
   "id": "6ff22af9",
   "metadata": {},
   "outputs": [],
   "source": [
    "MP_and = MPModel(weights, threshold)"
   ]
  },
  {
   "cell_type": "code",
   "execution_count": 24,
   "id": "4679034a",
   "metadata": {},
   "outputs": [
    {
     "name": "stdout",
     "output_type": "stream",
     "text": [
      "Input: [0, 0], output: 0\n",
      "Input: [0, 1], output: 0\n",
      "Input: [1, 0], output: 0\n",
      "Input: [1, 1], output: 1\n"
     ]
    }
   ],
   "source": [
    "for ips in logic_inputs:\n",
    "    op=MP_and.activate(ips)\n",
    "    print(f\"Input: {ips}, output: {op}\")"
   ]
  },
  {
   "cell_type": "code",
   "execution_count": null,
   "id": "e0684ecc",
   "metadata": {},
   "outputs": [],
   "source": []
  }
 ],
 "metadata": {
  "kernelspec": {
   "display_name": "Python 3 (ipykernel)",
   "language": "python",
   "name": "python3"
  },
  "language_info": {
   "codemirror_mode": {
    "name": "ipython",
    "version": 3
   },
   "file_extension": ".py",
   "mimetype": "text/x-python",
   "name": "python",
   "nbconvert_exporter": "python",
   "pygments_lexer": "ipython3",
   "version": "3.9.7"
  }
 },
 "nbformat": 4,
 "nbformat_minor": 5
}
